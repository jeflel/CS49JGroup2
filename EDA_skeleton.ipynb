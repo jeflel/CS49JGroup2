{
  "nbformat": 4,
  "nbformat_minor": 5,
  "metadata": {
    "kernelspec": {
      "display_name": "Python 3",
      "language": "python",
      "name": "python3"
    },
    "language_info": {
      "name": "python",
      "version": "3.x"
    },
    "colab": {
      "provenance": [],
      "include_colab_link": true
    }
  },
  "cells": [
    {
      "cell_type": "markdown",
      "metadata": {
        "id": "view-in-github",
        "colab_type": "text"
      },
      "source": [
        "<a href=\"https://colab.research.google.com/github/jeflel/CS49JGroup2/blob/main/EDA_skeleton.ipynb\" target=\"_parent\"><img src=\"https://colab.research.google.com/assets/colab-badge.svg\" alt=\"Open In Colab\"/></a>"
      ]
    },
    {
      "cell_type": "markdown",
      "metadata": {
        "id": "H1qi0MBYUEur"
      },
      "source": [
        "# EDA Notebook Skeleton\n",
        "_Created: 2025-09-14_\n",
        "\n",
        "This notebook is a starter template for your assignment:\n",
        "- Keep your `.ipynb` in `notebooks/` in your repo.\n",
        "- Put **instructions** and the **Data Card** in `data/README.md` (a template is provided).\n",
        "- **Do not commit large data**; load it from a local upload, Drive, or a URL at runtime.\n"
      ],
      "id": "H1qi0MBYUEur"
    },
    {
      "cell_type": "markdown",
      "metadata": {
        "id": "pdxNs_C0UEus"
      },
      "source": [
        "## 1) Setup\n",
        "Import standard libraries. In Google Colab these are already available."
      ],
      "id": "pdxNs_C0UEus"
    },
    {
      "cell_type": "code",
      "execution_count": null,
      "metadata": {
        "id": "UyBbgev0UEus"
      },
      "outputs": [],
      "source": [
        "import pandas as pd\n",
        "import numpy as np\n",
        "import matplotlib.pyplot as plt\n",
        "pd.set_option('display.max_columns', 100)\n"
      ],
      "id": "UyBbgev0UEus"
    },
    {
      "cell_type": "markdown",
      "metadata": {
        "id": "s3Fnxjw7UEut"
      },
      "source": [
        "## 2) Load Data\n",
        "Pick one approach below and adapt the path/URL/filename.\n",
        "- **Upload a file** each session (small files only)\n",
        "- **Load from a URL** (recommended if hosted)\n",
        "- **Mount Drive** if you keep data there (not shown here)"
      ],
      "id": "s3Fnxjw7UEut"
    },
    {
      "cell_type": "code",
      "execution_count": null,
      "metadata": {
        "id": "ISAErSD4UEut"
      },
      "outputs": [],
      "source": [
        "# OPTION A: Upload a local CSV (interactive)\n",
        "# from google.colab import files\n",
        "# uploaded = files.upload()  # choose a file\n",
        "# import io\n",
        "# df = pd.read_csv(io.BytesIO(uploaded[list(uploaded.keys())[0]]))\n",
        "\n",
        "# OPTION B: Load from a URL (replace with your dataset URL)\n",
        "# url = 'https://raw.githubusercontent.com/.../path/to/data.csv'\n",
        "# df = pd.read_csv(url)\n",
        "\n",
        "# After loading, ensure df exists:\n",
        "# df.head()"
      ],
      "id": "ISAErSD4UEut"
    },
    {
      "cell_type": "markdown",
      "metadata": {
        "id": "YwyauVn7UEut"
      },
      "source": [
        "## 3) Data Overview\n",
        "Get shape, dtypes, and a quick peek."
      ],
      "id": "YwyauVn7UEut"
    },
    {
      "cell_type": "code",
      "execution_count": null,
      "metadata": {
        "id": "OYhPodVtUEut"
      },
      "outputs": [],
      "source": [
        "# Make sure df is defined before running these:\n",
        "# print('Shape:', df.shape)\n",
        "# display(df.head())\n",
        "# display(df.dtypes)\n"
      ],
      "id": "OYhPodVtUEut"
    },
    {
      "cell_type": "markdown",
      "metadata": {
        "id": "jNbd8UNbUEut"
      },
      "source": [
        "## 4) Missingness Snapshot\n",
        "Which columns have NaNs and rough % missing."
      ],
      "id": "jNbd8UNbUEut"
    },
    {
      "cell_type": "code",
      "execution_count": null,
      "metadata": {
        "id": "e6-jiSsFUEut"
      },
      "outputs": [],
      "source": [
        "# Run only if df is defined\n",
        "# miss = df.isna().mean().sort_values(ascending=False)\n",
        "# (miss * 100).round(2).to_frame('pct_missing')"
      ],
      "id": "e6-jiSsFUEut"
    },
    {
      "cell_type": "markdown",
      "metadata": {
        "id": "1b3oDRnUUEut"
      },
      "source": [
        "## 5) Data Dictionary (fill manually)\n",
        "Create a short, human-readable description for columns you use.\n",
        "\n",
        "| Column | Type | Units | Description |\n",
        "|---|---|---|---|\n",
        "| id | int | – | Unique row identifier |\n",
        "| date | datetime | YYYY-MM-DD | Observation date |\n",
        "| value | float | e.g., USD, kg | Measured value |\n",
        "\n",
        "_Add/modify rows to match your dataset._"
      ],
      "id": "1b3oDRnUUEut"
    },
    {
      "cell_type": "markdown",
      "metadata": {
        "id": "7rZfFP6OUEuu"
      },
      "source": [
        "## 6) Transformations (pandas)\n",
        "The following examples show each required transformation. **Edit column names** to match your dataset.\n",
        "- Vectorized boolean mask → new boolean column\n",
        "- `map` or `Series.apply` on a single column\n",
        "- Optional `DataFrame.apply(axis=1)` for multi-column logic\n",
        "- Categorical bucketing (e.g., low/med/high)\n",
        "- Handle missing data (drop/fill/mark) with a brief justification in comments"
      ],
      "id": "7rZfFP6OUEuu"
    },
    {
      "cell_type": "code",
      "execution_count": null,
      "metadata": {
        "id": "Kz1gTKceUEuu"
      },
      "outputs": [],
      "source": [
        "# ====== EDIT BELOW TO MATCH YOUR COLUMN NAMES ======\n",
        "# Example columns assumed here: 'score' (numeric), 'state' (string), 'age' (numeric)\n",
        "# Remove comments and adjust as needed.\n",
        "\n",
        "# 1) Vectorized boolean mask → new column\n",
        "# df['Pass'] = df['score'] >= 70  # True/False\n",
        "\n",
        "# 2) map or Series.apply on a SINGLE column\n",
        "# Example: normalize state names to abbreviations via map\n",
        "# state_map = {'California': 'CA', 'New York': 'NY'}\n",
        "# df['state_abbrev'] = df['state'].map(state_map)  # values not in map become NaN\n",
        "\n",
        "# Alternatively: clean strings with Series.apply (single-column)\n",
        "# df['state_clean'] = df['state'].apply(lambda s: s.strip().title() if isinstance(s, str) else s)\n",
        "\n",
        "# 3) OPTIONAL: DataFrame.apply(axis=1) for multi-column logic (justify in comments)\n",
        "# def risk_row(row):\n",
        "#     # Example logic needing multiple columns:\n",
        "#     # Justification: threshold uses both age and score together.\n",
        "#     return 'high' if (row.get('age', 0) >= 60 and row.get('score', 0) < 65) else 'normal'\n",
        "# # df['risk'] = df.apply(risk_row, axis=1)\n",
        "\n",
        "# 4) Categorical bucketing (bands)\n",
        "# Example: bucket 'score' into low/med/high using quantiles or fixed bins\n",
        "# bins = [0, 60, 80, 100]\n",
        "# labels = ['low', 'med', 'high']\n",
        "# df['score_band'] = pd.cut(df['score'], bins=bins, labels=labels, include_lowest=True)\n",
        "\n",
        "# 5) Missing-data handling (choose ONE and explain)\n",
        "# Option A: Fill numeric with median (explain: robust to outliers)\n",
        "# if 'age' in df.columns:\n",
        "#     df['age'] = df['age'].fillna(df['age'].median())\n",
        "\n",
        "# Option B: Drop rows missing 'score' (explain: score is critical target/feature)\n",
        "# df = df.dropna(subset=['score'])\n",
        "\n",
        "# Option C: Mark missingness with an indicator and fill\n",
        "# if 'state' in df.columns:\n",
        "#     df['state_missing'] = df['state'].isna()\n",
        "#     df['state'] = df['state'].fillna('Unknown')\n",
        "\n",
        "# ===================================================\n",
        "# display(df.head())"
      ],
      "id": "Kz1gTKceUEuu"
    },
    {
      "cell_type": "markdown",
      "metadata": {
        "id": "IF0ORRzuUEuu"
      },
      "source": [
        "## 7) Basic Exploration\n",
        "A few summaries or plots (optional examples)."
      ],
      "id": "IF0ORRzuUEuu"
    },
    {
      "cell_type": "code",
      "execution_count": null,
      "metadata": {
        "id": "wjXWFLkGUEuu"
      },
      "outputs": [],
      "source": [
        "# Example histogram (choose a numeric column):\n",
        "# if 'score' in df.columns:\n",
        "#     plt.figure()\n",
        "#     df['score'].hist()\n",
        "#     plt.title('Score Distribution')\n",
        "#     plt.xlabel('score')\n",
        "#     plt.ylabel('count')\n",
        "#     plt.show()\n"
      ],
      "id": "wjXWFLkGUEuu"
    },
    {
      "cell_type": "markdown",
      "metadata": {
        "id": "trS8ZzFSUEuu"
      },
      "source": [
        "## 8) Observations / Notes\n",
        "- Note any quirks: mixed types, inconsistent labels, outliers, etc.\n",
        "- What transformation choices did you make and why?"
      ],
      "id": "trS8ZzFSUEuu"
    },
    {
      "cell_type": "markdown",
      "metadata": {
        "id": "ROHnzD0oUEuu"
      },
      "source": [
        "---\n",
        "### Reminder\n",
        "- Keep this notebook in `notebooks/` in your repo.\n",
        "- Fill out `data/README.md` using the provided template."
      ],
      "id": "ROHnzD0oUEuu"
    }
  ]
}